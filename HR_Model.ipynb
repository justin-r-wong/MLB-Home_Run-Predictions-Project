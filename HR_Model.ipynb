{
 "cells": [
  {
   "cell_type": "markdown",
   "id": "206ffd96-1eae-4c9b-9813-e7dee22c96c1",
   "metadata": {},
   "source": [
    "# Home Run Prediction Model\n",
    "## Justin Wong"
   ]
  },
  {
   "cell_type": "code",
   "execution_count": 1,
   "id": "a07e64d2-cf5e-4fd0-93ba-9a2c56f1a210",
   "metadata": {
    "tags": []
   },
   "outputs": [],
   "source": [
    "# Load Libraries\n",
    "import matplotlib.pyplot as plt\n",
    "import numpy as np\n",
    "import pandas as pd\n",
    "import seaborn as sns\n",
    "import math as math\n",
    "from sklearn.model_selection import (\n",
    "    GridSearchCV,\n",
    "    RandomizedSearchCV,\n",
    "    cross_val_score,\n",
    "    cross_validate,\n",
    "    train_test_split,\n",
    ")\n",
    "from sklearn.compose import ColumnTransformer, make_column_transformer\n",
    "from sklearn.dummy import DummyRegressor\n",
    "from sklearn.model_selection import cross_val_score, cross_validate, train_test_split\n",
    "from sklearn.neighbors import KNeighborsRegressor\n",
    "from sklearn.pipeline import Pipeline, make_pipeline\n",
    "from sklearn.preprocessing import StandardScaler\n",
    "from sklearn.tree import DecisionTreeRegressor\n",
    "from sklearn.linear_model import LinearRegression, Ridge, RidgeCV, Lasso, BayesianRidge\n",
    "from sklearn.metrics import r2_score, make_scorer\n",
    "from sklearn.metrics import mean_squared_error, mean_absolute_error\n",
    "\n",
    "from sklearn.ensemble import RandomForestRegressor\n",
    "from xgboost import XGBRegressor\n",
    "from catboost import CatBoostRegressor\n",
    "from lightgbm.sklearn import LGBMRegressor\n",
    "from sklearn.feature_selection import RFECV\n",
    "from sklearn.feature_selection import RFE"
   ]
  },
  {
   "cell_type": "markdown",
   "id": "3fd374b7-2b75-4ed2-a1be-468fa286cc02",
   "metadata": {
    "tags": []
   },
   "source": [
    "## Data Cleaning and Wrangling"
   ]
  },
  {
   "cell_type": "code",
   "execution_count": 2,
   "id": "5406b060-a7e8-45aa-9cb4-1ec0d31c8a70",
   "metadata": {
    "tags": []
   },
   "outputs": [
    {
     "data": {
      "text/plain": [
       "(1112, 17)"
      ]
     },
     "execution_count": 2,
     "metadata": {},
     "output_type": "execute_result"
    }
   ],
   "source": [
    "# Load data\n",
    "data = pd.read_csv(\"data/2015-2023_batting_data.csv\")\n",
    "data.head()\n",
    "data.query('year != 2023').shape"
   ]
  },
  {
   "cell_type": "code",
   "execution_count": 3,
   "id": "a9f80baf-d50e-4946-acc7-687b49b57047",
   "metadata": {
    "tags": []
   },
   "outputs": [],
   "source": [
    "# Divide Data by Year\n",
    "data_2015 = data.query('year == 2015')\n",
    "data_2016 = data.query('year == 2016')\n",
    "data_2017 = data.query('year == 2017')\n",
    "data_2018 = data.query('year == 2018')\n",
    "data_2019 = data.query('year == 2019')\n",
    "data_2020 = data.query('year == 2020')\n",
    "data_2021 = data.query('year == 2021')\n",
    "data_2022 = data.query('year == 2022')\n",
    "data_2023 = data.query('year == 2023')"
   ]
  },
  {
   "cell_type": "code",
   "execution_count": 4,
   "id": "4a1b6aed-57a9-4625-8735-c4395966c14c",
   "metadata": {
    "tags": []
   },
   "outputs": [],
   "source": [
    "# Get HRs by year\n",
    "hrs_2015 = data_2015[['player_id','home_run']]\n",
    "hrs_2016 = data_2016[['player_id','home_run']]\n",
    "hrs_2017 = data_2017[['player_id','home_run']]\n",
    "hrs_2018 = data_2018[['player_id','home_run']]\n",
    "hrs_2019 = data_2019[['player_id','home_run']]\n",
    "hrs_2020 = data_2020[['player_id','home_run']]\n",
    "hrs_2021 = data_2021[['player_id','home_run']]\n",
    "hrs_2022 = data_2022[['player_id','home_run']]\n",
    "hrs_2023 = data_2023[['player_id','home_run']]"
   ]
  },
  {
   "cell_type": "code",
   "execution_count": 5,
   "id": "a24c3b37-4087-4370-bae4-2bb979098cbf",
   "metadata": {
    "tags": []
   },
   "outputs": [
    {
     "data": {
      "text/plain": [
       "(522, 18)"
      ]
     },
     "execution_count": 5,
     "metadata": {},
     "output_type": "execute_result"
    }
   ],
   "source": [
    "# Get data with next year HRs column\n",
    "df_2015 = pd.merge(data_2015, hrs_2016, on='player_id')\n",
    "df_2016 = pd.merge(data_2016, hrs_2017, on='player_id')\n",
    "df_2017 = pd.merge(data_2017, hrs_2018, on='player_id')\n",
    "df_2018 = pd.merge(data_2018, hrs_2019, on='player_id')\n",
    "df_2019 = pd.merge(data_2019, hrs_2020, on='player_id')\n",
    "df_2020 = pd.merge(data_2020, hrs_2021, on='player_id')\n",
    "df_2021 = pd.merge(data_2021, hrs_2022, on='player_id')\n",
    "df_2022 = pd.merge(data_2022, hrs_2023, on='player_id')\n",
    "\n",
    "#Remove 2019 and 2020 years\n",
    "final_df = pd.concat([df_2015,df_2016,df_2017,df_2018,#df_2019,\n",
    "                      #df_2020,\n",
    "                      df_2021,\n",
    "                      df_2022\n",
    "                    ])\n",
    "final_df.shape"
   ]
  },
  {
   "cell_type": "code",
   "execution_count": 6,
   "id": "bf2ba8d7-cfcc-40c9-8554-b57b58181780",
   "metadata": {
    "tags": []
   },
   "outputs": [],
   "source": [
    "# Split data into training and testing sets\n",
    "train_df, test_df = train_test_split(final_df, test_size = 0.2, random_state = 123)\n",
    "\n",
    "X_train = train_df.drop(columns=[\"home_run_y\"])\n",
    "X_test = test_df.drop(columns=[\"home_run_y\"])\n",
    "\n",
    "y_train = train_df[\"home_run_y\"]\n",
    "y_test = test_df[\"home_run_y\"]"
   ]
  },
  {
   "cell_type": "code",
   "execution_count": 7,
   "id": "7364783e-efc0-480a-82df-47eb99663f45",
   "metadata": {
    "tags": []
   },
   "outputs": [
    {
     "data": {
      "text/plain": [
       "(417, 17)"
      ]
     },
     "execution_count": 7,
     "metadata": {},
     "output_type": "execute_result"
    }
   ],
   "source": [
    "X_train.shape"
   ]
  },
  {
   "cell_type": "code",
   "execution_count": 8,
   "id": "d747eeb3-dedf-47bb-932e-a0f27c3ea1b2",
   "metadata": {
    "tags": []
   },
   "outputs": [
    {
     "data": {
      "text/plain": [
       "(105, 17)"
      ]
     },
     "execution_count": 8,
     "metadata": {},
     "output_type": "execute_result"
    }
   ],
   "source": [
    "X_test.shape"
   ]
  },
  {
   "cell_type": "markdown",
   "id": "e7a87d81-6f1f-49c7-8c7e-d2665171b218",
   "metadata": {
    "tags": []
   },
   "source": [
    "## EDA"
   ]
  },
  {
   "cell_type": "code",
   "execution_count": 9,
   "id": "d8e5048e-8428-4391-ae05-3c954ca9671e",
   "metadata": {
    "tags": []
   },
   "outputs": [
    {
     "name": "stdout",
     "output_type": "stream",
     "text": [
      "<class 'pandas.core.frame.DataFrame'>\n",
      "Int64Index: 417 entries, 31 to 74\n",
      "Data columns (total 18 columns):\n",
      " #   Column                 Non-Null Count  Dtype  \n",
      "---  ------                 --------------  -----  \n",
      " 0   last_name, first_name  417 non-null    object \n",
      " 1   player_id              417 non-null    int64  \n",
      " 2   year                   417 non-null    int64  \n",
      " 3   home_run_x             417 non-null    int64  \n",
      " 4   xba                    417 non-null    float64\n",
      " 5   xslg                   417 non-null    float64\n",
      " 6   xwoba                  417 non-null    float64\n",
      " 7   xobp                   417 non-null    float64\n",
      " 8   xiso                   417 non-null    float64\n",
      " 9   xwobacon               417 non-null    float64\n",
      " 10  xbacon                 417 non-null    float64\n",
      " 11  exit_velocity_avg      417 non-null    float64\n",
      " 12  launch_angle_avg       417 non-null    float64\n",
      " 13  sweet_spot_percent     417 non-null    float64\n",
      " 14  barrel_batted_rate     417 non-null    float64\n",
      " 15  solidcontact_percent   417 non-null    float64\n",
      " 16  hard_hit_percent       417 non-null    float64\n",
      " 17  home_run_y             417 non-null    int64  \n",
      "dtypes: float64(13), int64(4), object(1)\n",
      "memory usage: 61.9+ KB\n"
     ]
    }
   ],
   "source": [
    "train_df.info()"
   ]
  },
  {
   "cell_type": "code",
   "execution_count": 10,
   "id": "58de9165-8b46-495d-a522-cc81181ccff4",
   "metadata": {
    "tags": []
   },
   "outputs": [
    {
     "data": {
      "text/html": [
       "<div>\n",
       "<style scoped>\n",
       "    .dataframe tbody tr th:only-of-type {\n",
       "        vertical-align: middle;\n",
       "    }\n",
       "\n",
       "    .dataframe tbody tr th {\n",
       "        vertical-align: top;\n",
       "    }\n",
       "\n",
       "    .dataframe thead th {\n",
       "        text-align: right;\n",
       "    }\n",
       "</style>\n",
       "<table border=\"1\" class=\"dataframe\">\n",
       "  <thead>\n",
       "    <tr style=\"text-align: right;\">\n",
       "      <th></th>\n",
       "      <th>player_id</th>\n",
       "      <th>year</th>\n",
       "      <th>home_run_x</th>\n",
       "      <th>xba</th>\n",
       "      <th>xslg</th>\n",
       "      <th>xwoba</th>\n",
       "      <th>xobp</th>\n",
       "      <th>xiso</th>\n",
       "      <th>xwobacon</th>\n",
       "      <th>xbacon</th>\n",
       "      <th>exit_velocity_avg</th>\n",
       "      <th>launch_angle_avg</th>\n",
       "      <th>sweet_spot_percent</th>\n",
       "      <th>barrel_batted_rate</th>\n",
       "      <th>solidcontact_percent</th>\n",
       "      <th>hard_hit_percent</th>\n",
       "      <th>home_run_y</th>\n",
       "    </tr>\n",
       "  </thead>\n",
       "  <tbody>\n",
       "    <tr>\n",
       "      <th>count</th>\n",
       "      <td>417.000000</td>\n",
       "      <td>417.000000</td>\n",
       "      <td>417.000000</td>\n",
       "      <td>417.000000</td>\n",
       "      <td>417.000000</td>\n",
       "      <td>417.000000</td>\n",
       "      <td>417.000000</td>\n",
       "      <td>417.000000</td>\n",
       "      <td>417.000000</td>\n",
       "      <td>417.000000</td>\n",
       "      <td>417.000000</td>\n",
       "      <td>417.000000</td>\n",
       "      <td>417.000000</td>\n",
       "      <td>417.000000</td>\n",
       "      <td>417.000000</td>\n",
       "      <td>417.000000</td>\n",
       "      <td>417.000000</td>\n",
       "    </tr>\n",
       "    <tr>\n",
       "      <th>mean</th>\n",
       "      <td>549202.486811</td>\n",
       "      <td>2018.163070</td>\n",
       "      <td>21.836930</td>\n",
       "      <td>0.261683</td>\n",
       "      <td>0.440252</td>\n",
       "      <td>0.336094</td>\n",
       "      <td>0.334715</td>\n",
       "      <td>0.178585</td>\n",
       "      <td>0.383657</td>\n",
       "      <td>0.333835</td>\n",
       "      <td>89.145324</td>\n",
       "      <td>12.508393</td>\n",
       "      <td>33.777938</td>\n",
       "      <td>7.711751</td>\n",
       "      <td>6.248921</td>\n",
       "      <td>38.596403</td>\n",
       "      <td>22.551559</td>\n",
       "    </tr>\n",
       "    <tr>\n",
       "      <th>std</th>\n",
       "      <td>86411.959400</td>\n",
       "      <td>2.573399</td>\n",
       "      <td>9.994098</td>\n",
       "      <td>0.021474</td>\n",
       "      <td>0.064195</td>\n",
       "      <td>0.033365</td>\n",
       "      <td>0.031502</td>\n",
       "      <td>0.055540</td>\n",
       "      <td>0.050974</td>\n",
       "      <td>0.027236</td>\n",
       "      <td>2.095378</td>\n",
       "      <td>4.312666</td>\n",
       "      <td>3.513387</td>\n",
       "      <td>3.904396</td>\n",
       "      <td>1.781787</td>\n",
       "      <td>7.463869</td>\n",
       "      <td>10.056229</td>\n",
       "    </tr>\n",
       "    <tr>\n",
       "      <th>min</th>\n",
       "      <td>120074.000000</td>\n",
       "      <td>2015.000000</td>\n",
       "      <td>0.000000</td>\n",
       "      <td>0.204000</td>\n",
       "      <td>0.289000</td>\n",
       "      <td>0.258000</td>\n",
       "      <td>0.261000</td>\n",
       "      <td>0.050000</td>\n",
       "      <td>0.278000</td>\n",
       "      <td>0.268000</td>\n",
       "      <td>80.500000</td>\n",
       "      <td>-1.500000</td>\n",
       "      <td>23.900000</td>\n",
       "      <td>0.200000</td>\n",
       "      <td>1.200000</td>\n",
       "      <td>11.200000</td>\n",
       "      <td>1.000000</td>\n",
       "    </tr>\n",
       "    <tr>\n",
       "      <th>25%</th>\n",
       "      <td>488726.000000</td>\n",
       "      <td>2016.000000</td>\n",
       "      <td>14.000000</td>\n",
       "      <td>0.248000</td>\n",
       "      <td>0.394000</td>\n",
       "      <td>0.311000</td>\n",
       "      <td>0.313000</td>\n",
       "      <td>0.137000</td>\n",
       "      <td>0.347000</td>\n",
       "      <td>0.315000</td>\n",
       "      <td>87.700000</td>\n",
       "      <td>9.700000</td>\n",
       "      <td>31.600000</td>\n",
       "      <td>4.800000</td>\n",
       "      <td>5.100000</td>\n",
       "      <td>33.800000</td>\n",
       "      <td>15.000000</td>\n",
       "    </tr>\n",
       "    <tr>\n",
       "      <th>50%</th>\n",
       "      <td>547989.000000</td>\n",
       "      <td>2017.000000</td>\n",
       "      <td>22.000000</td>\n",
       "      <td>0.261000</td>\n",
       "      <td>0.436000</td>\n",
       "      <td>0.335000</td>\n",
       "      <td>0.334000</td>\n",
       "      <td>0.176000</td>\n",
       "      <td>0.380000</td>\n",
       "      <td>0.331000</td>\n",
       "      <td>89.200000</td>\n",
       "      <td>12.600000</td>\n",
       "      <td>33.600000</td>\n",
       "      <td>7.500000</td>\n",
       "      <td>6.200000</td>\n",
       "      <td>39.200000</td>\n",
       "      <td>22.000000</td>\n",
       "    </tr>\n",
       "    <tr>\n",
       "      <th>75%</th>\n",
       "      <td>607680.000000</td>\n",
       "      <td>2021.000000</td>\n",
       "      <td>28.000000</td>\n",
       "      <td>0.276000</td>\n",
       "      <td>0.480000</td>\n",
       "      <td>0.358000</td>\n",
       "      <td>0.354000</td>\n",
       "      <td>0.214000</td>\n",
       "      <td>0.413000</td>\n",
       "      <td>0.350000</td>\n",
       "      <td>90.600000</td>\n",
       "      <td>15.500000</td>\n",
       "      <td>35.900000</td>\n",
       "      <td>10.200000</td>\n",
       "      <td>7.500000</td>\n",
       "      <td>43.500000</td>\n",
       "      <td>30.000000</td>\n",
       "    </tr>\n",
       "    <tr>\n",
       "      <th>max</th>\n",
       "      <td>683734.000000</td>\n",
       "      <td>2022.000000</td>\n",
       "      <td>59.000000</td>\n",
       "      <td>0.337000</td>\n",
       "      <td>0.616000</td>\n",
       "      <td>0.431000</td>\n",
       "      <td>0.443000</td>\n",
       "      <td>0.346000</td>\n",
       "      <td>0.570000</td>\n",
       "      <td>0.431000</td>\n",
       "      <td>95.800000</td>\n",
       "      <td>23.000000</td>\n",
       "      <td>46.400000</td>\n",
       "      <td>22.300000</td>\n",
       "      <td>11.600000</td>\n",
       "      <td>58.400000</td>\n",
       "      <td>62.000000</td>\n",
       "    </tr>\n",
       "  </tbody>\n",
       "</table>\n",
       "</div>"
      ],
      "text/plain": [
       "           player_id         year  home_run_x         xba        xslg  \\\n",
       "count     417.000000   417.000000  417.000000  417.000000  417.000000   \n",
       "mean   549202.486811  2018.163070   21.836930    0.261683    0.440252   \n",
       "std     86411.959400     2.573399    9.994098    0.021474    0.064195   \n",
       "min    120074.000000  2015.000000    0.000000    0.204000    0.289000   \n",
       "25%    488726.000000  2016.000000   14.000000    0.248000    0.394000   \n",
       "50%    547989.000000  2017.000000   22.000000    0.261000    0.436000   \n",
       "75%    607680.000000  2021.000000   28.000000    0.276000    0.480000   \n",
       "max    683734.000000  2022.000000   59.000000    0.337000    0.616000   \n",
       "\n",
       "            xwoba        xobp        xiso    xwobacon      xbacon  \\\n",
       "count  417.000000  417.000000  417.000000  417.000000  417.000000   \n",
       "mean     0.336094    0.334715    0.178585    0.383657    0.333835   \n",
       "std      0.033365    0.031502    0.055540    0.050974    0.027236   \n",
       "min      0.258000    0.261000    0.050000    0.278000    0.268000   \n",
       "25%      0.311000    0.313000    0.137000    0.347000    0.315000   \n",
       "50%      0.335000    0.334000    0.176000    0.380000    0.331000   \n",
       "75%      0.358000    0.354000    0.214000    0.413000    0.350000   \n",
       "max      0.431000    0.443000    0.346000    0.570000    0.431000   \n",
       "\n",
       "       exit_velocity_avg  launch_angle_avg  sweet_spot_percent  \\\n",
       "count         417.000000        417.000000          417.000000   \n",
       "mean           89.145324         12.508393           33.777938   \n",
       "std             2.095378          4.312666            3.513387   \n",
       "min            80.500000         -1.500000           23.900000   \n",
       "25%            87.700000          9.700000           31.600000   \n",
       "50%            89.200000         12.600000           33.600000   \n",
       "75%            90.600000         15.500000           35.900000   \n",
       "max            95.800000         23.000000           46.400000   \n",
       "\n",
       "       barrel_batted_rate  solidcontact_percent  hard_hit_percent  home_run_y  \n",
       "count          417.000000            417.000000        417.000000  417.000000  \n",
       "mean             7.711751              6.248921         38.596403   22.551559  \n",
       "std              3.904396              1.781787          7.463869   10.056229  \n",
       "min              0.200000              1.200000         11.200000    1.000000  \n",
       "25%              4.800000              5.100000         33.800000   15.000000  \n",
       "50%              7.500000              6.200000         39.200000   22.000000  \n",
       "75%             10.200000              7.500000         43.500000   30.000000  \n",
       "max             22.300000             11.600000         58.400000   62.000000  "
      ]
     },
     "execution_count": 10,
     "metadata": {},
     "output_type": "execute_result"
    }
   ],
   "source": [
    "train_df.describe()"
   ]
  },
  {
   "cell_type": "code",
   "execution_count": 11,
   "id": "ec309f93-a2f6-49ff-b9ad-7288ee1180ff",
   "metadata": {
    "tags": []
   },
   "outputs": [
    {
     "data": {
      "text/plain": [
       "<AxesSubplot: >"
      ]
     },
     "execution_count": 11,
     "metadata": {},
     "output_type": "execute_result"
    },
    {
     "data": {
      "image/png": "[encoded data removed]",
      "text/plain": [
       "<Figure size 640x480 with 2 Axes>"
      ]
     },
     "metadata": {},
     "output_type": "display_data"
    }
   ],
   "source": [
    "# Heatmap to visualize correlations\n",
    "sns.heatmap(train_df.iloc[:, 3:36].corr())"
   ]
  },
  {
   "cell_type": "code",
   "execution_count": 12,
   "id": "0a1dfd49-55cc-4690-a441-0a8968004fc7",
   "metadata": {
    "tags": []
   },
   "outputs": [
    {
     "data": {
      "text/plain": [
       "[Text(0.5, 1.0, 'Distribtution of HRs in Training Set')]"
      ]
     },
     "execution_count": 12,
     "metadata": {},
     "output_type": "execute_result"
    },
    {
     "data": {
      "image/png": "[encoded data removed]",
      "text/plain": [
       "<Figure size 640x480 with 1 Axes>"
      ]
     },
     "metadata": {},
     "output_type": "display_data"
    }
   ],
   "source": [
    "# Distributions of HRs\n",
    "sns.histplot(train_df['home_run_y']).set(title='Distribtution of HRs in Training Set')"
   ]
  },
  {
   "cell_type": "code",
   "execution_count": 13,
   "id": "ac8f7a25-6da1-4048-b412-fcc5d890126e",
   "metadata": {
    "tags": []
   },
   "outputs": [
    {
     "data": {
      "text/plain": [
       "[Text(0.5, 1.0, 'Overall Mean HRs by Year')]"
      ]
     },
     "execution_count": 13,
     "metadata": {},
     "output_type": "execute_result"
    },
    {
     "data": {
      "image/png": "[encoded data removed]",
      "text/plain": [
       "<Figure size 640x480 with 1 Axes>"
      ]
     },
     "metadata": {},
     "output_type": "display_data"
    }
   ],
   "source": [
    "# Plot of Avg HR Per Year\n",
    "hr_year = []\n",
    "years = [2015, 2016, 2017, 2018, 2019, 2020, 2021, 2022, 2023]\n",
    "for x in years:\n",
    "    temp = data[data['year'] == x]\n",
    "    hr_year.append(temp['home_run'].median())\n",
    "sns.lineplot(y=hr_year, x= years).set(title='Overall Mean HRs by Year')"
   ]
  },
  {
   "cell_type": "markdown",
   "id": "c2a4ad05-9cd4-403e-a98c-010b8aca0d60",
   "metadata": {},
   "source": [
    "## Data Preprocessing"
   ]
  },
  {
   "cell_type": "code",
   "execution_count": 14,
   "id": "4bf32797-cd97-4006-913c-af2206bc8e90",
   "metadata": {
    "tags": []
   },
   "outputs": [
    {
     "name": "stdout",
     "output_type": "stream",
     "text": [
      "Num Features: 14\n",
      "Selected Features: [ True  True  True  True  True  True  True  True  True  True  True  True\n",
      "  True  True]\n",
      "Feature Ranking: [1 1 1 1 1 1 1 1 1 1 1 1 1 1]\n",
      "Index(['home_run_x', 'xba', 'xslg', 'xwoba', 'xobp', 'xiso', 'xwobacon',\n",
      "       'xbacon', 'exit_velocity_avg', 'launch_angle_avg', 'sweet_spot_percent',\n",
      "       'barrel_batted_rate', 'solidcontact_percent', 'hard_hit_percent'],\n",
      "      dtype='object')\n"
     ]
    }
   ],
   "source": [
    "# Feature Extraction with RFE\n",
    "model = Ridge()\n",
    "rfe = RFECV(model, cv = 5)\n",
    "fit = rfe.fit(X_train.iloc[:, 3:36], y_train)\n",
    "print(\"Num Features: %d\" % fit.n_features_)\n",
    "print(\"Selected Features: %s\" % fit.support_)\n",
    "print(\"Feature Ranking: %s\" % fit.ranking_)\n",
    "\n",
    "for feature in fit.support_.nonzero():\n",
    "      print(X_train.iloc[:, 3:36].columns[feature])"
   ]
  },
  {
   "cell_type": "code",
   "execution_count": 15,
   "id": "92a2f318-6e2c-40fd-b721-2da7a791dc78",
   "metadata": {
    "tags": []
   },
   "outputs": [],
   "source": [
    "# Create Pipeline\n",
    "drop_features = ['last_name, first_name', 'player_id', 'year']\n",
    "\n",
    "numeric_features = ['home_run_x', 'xba', 'xslg', 'xwoba', 'xobp', 'xiso', 'xwobacon', 'xbacon',\n",
    "       'exit_velocity_avg', 'launch_angle_avg', 'sweet_spot_percent',\n",
    "       'barrel_batted_rate', 'solidcontact_percent', \"hard_hit_percent\"]"
   ]
  },
  {
   "cell_type": "code",
   "execution_count": 16,
   "id": "b579deba-4a0b-4781-b29b-2cace952a847",
   "metadata": {
    "tags": []
   },
   "outputs": [],
   "source": [
    "ct = make_column_transformer(\n",
    "    (\"passthrough\", numeric_features),\n",
    "    (\"drop\", drop_features),\n",
    ")"
   ]
  },
  {
   "cell_type": "code",
   "execution_count": 17,
   "id": "0f0e4933-baa0-4e17-911c-83e7f5ec5c22",
   "metadata": {
    "tags": []
   },
   "outputs": [],
   "source": [
    "transformed = ct.fit_transform(X_train, y_train)"
   ]
  },
  {
   "cell_type": "markdown",
   "id": "ecd289af-6a4a-4bb0-932b-fcaf6d07fbb0",
   "metadata": {},
   "source": [
    "## Model Selection"
   ]
  },
  {
   "cell_type": "code",
   "execution_count": 18,
   "id": "94675129-71eb-4d5f-b0cc-6a523329027f",
   "metadata": {
    "tags": []
   },
   "outputs": [],
   "source": [
    "models = {\n",
    "    \"dummy regressor\": DummyRegressor(),\n",
    "    \"KNN regressor\":KNeighborsRegressor(),\n",
    "    \"linear regression\":LinearRegression(),\n",
    "    \"ridge regression\": Ridge(),\n",
    "    \"bayesian ridge regression\": BayesianRidge(),\n",
    "    \"LASSO regression\": Lasso(),\n",
    "    \"decision tree\": DecisionTreeRegressor(),\n",
    "    \"random forest\": RandomForestRegressor(random_state = 123, n_jobs = -1),\n",
    "    \"XGBoost\": XGBRegressor(random_state = 123, verbosity=0),\n",
    "    \"LGBM\":  LGBMRegressor(random_state = 123),\n",
    "    \"CatBoost\": CatBoostRegressor(random_state = 123, verbose=0)\n",
    "}"
   ]
  },
  {
   "cell_type": "code",
   "execution_count": 19,
   "id": "84f5f3bc-3569-47c4-823a-c3c327c5ea3d",
   "metadata": {
    "tags": []
   },
   "outputs": [],
   "source": [
    "results_dict = {}\n",
    "\n",
    "def mean_std_cross_val_scores(model, X_train, y_train, **kwargs):\n",
    "    \"\"\"\n",
    "    Returns mean and std of cross validation\n",
    "\n",
    "    Parameters\n",
    "    ----------\n",
    "    model :\n",
    "        scikit-learn model\n",
    "    X_train : numpy array or pandas DataFrame\n",
    "        X in the training data\n",
    "    y_train :\n",
    "        y in the training data\n",
    "\n",
    "    Returns\n",
    "    ----------\n",
    "        pandas Series with mean scores from cross_validation\n",
    "    \"\"\"\n",
    "\n",
    "    scores = cross_validate(model, X_train, y_train, **kwargs)\n",
    "\n",
    "    mean_scores = pd.DataFrame(scores).mean()\n",
    "    std_scores = pd.DataFrame(scores).std()\n",
    "    out_col = []\n",
    "\n",
    "    for i in range(len(mean_scores)):\n",
    "        out_col.append((f\"%0.3f (+/- %0.3f)\" % (mean_scores[i], std_scores[i])))\n",
    "\n",
    "    return pd.Series(data=out_col, index=mean_scores.index)"
   ]
  },
  {
   "cell_type": "code",
   "execution_count": 20,
   "id": "783ac554-39ef-4779-aeb9-6c87b535ec87",
   "metadata": {
    "tags": []
   },
   "outputs": [],
   "source": [
    "scoring = ['neg_mean_absolute_error']\n",
    "alg = [\"dummy regressor\", \"KNN regressor\", \"linear regression\", \"ridge regression\", \"bayesian ridge regression\",\"LASSO regression\",  \"decision tree\", \"random forest\", \"XGBoost\", \"LGBM\", \"CatBoost\"]\n",
    "\n",
    "for i in alg:\n",
    "    pipe = make_pipeline(\n",
    "        ct,\n",
    "        models[i]\n",
    "    )\n",
    "    results_dict[i] = mean_std_cross_val_scores(pipe, X_train, y_train, return_train_score = True, cv = 5, scoring = scoring)"
   ]
  },
  {
   "cell_type": "code",
   "execution_count": 21,
   "id": "3c648d2f-35b0-424f-a703-39f1afccaf08",
   "metadata": {
    "tags": []
   },
   "outputs": [
    {
     "data": {
      "text/html": [
       "<div>\n",
       "<style scoped>\n",
       "    .dataframe tbody tr th:only-of-type {\n",
       "        vertical-align: middle;\n",
       "    }\n",
       "\n",
       "    .dataframe tbody tr th {\n",
       "        vertical-align: top;\n",
       "    }\n",
       "\n",
       "    .dataframe thead th {\n",
       "        text-align: right;\n",
       "    }\n",
       "</style>\n",
       "<table border=\"1\" class=\"dataframe\">\n",
       "  <thead>\n",
       "    <tr style=\"text-align: right;\">\n",
       "      <th></th>\n",
       "      <th>fit_time</th>\n",
       "      <th>score_time</th>\n",
       "      <th>test_neg_mean_absolute_error</th>\n",
       "      <th>train_neg_mean_absolute_error</th>\n",
       "    </tr>\n",
       "  </thead>\n",
       "  <tbody>\n",
       "    <tr>\n",
       "      <th>dummy regressor</th>\n",
       "      <td>0.003 (+/- 0.001)</td>\n",
       "      <td>0.002 (+/- 0.000)</td>\n",
       "      <td>-8.109 (+/- 0.522)</td>\n",
       "      <td>-8.096 (+/- 0.131)</td>\n",
       "    </tr>\n",
       "    <tr>\n",
       "      <th>KNN regressor</th>\n",
       "      <td>0.002 (+/- 0.000)</td>\n",
       "      <td>0.002 (+/- 0.000)</td>\n",
       "      <td>-6.520 (+/- 0.279)</td>\n",
       "      <td>-5.339 (+/- 0.127)</td>\n",
       "    </tr>\n",
       "    <tr>\n",
       "      <th>linear regression</th>\n",
       "      <td>0.004 (+/- 0.001)</td>\n",
       "      <td>0.002 (+/- 0.000)</td>\n",
       "      <td>-6.158 (+/- 0.558)</td>\n",
       "      <td>-5.856 (+/- 0.118)</td>\n",
       "    </tr>\n",
       "    <tr>\n",
       "      <th>ridge regression</th>\n",
       "      <td>0.003 (+/- 0.001)</td>\n",
       "      <td>0.002 (+/- 0.000)</td>\n",
       "      <td>-6.129 (+/- 0.501)</td>\n",
       "      <td>-5.945 (+/- 0.120)</td>\n",
       "    </tr>\n",
       "    <tr>\n",
       "      <th>bayesian ridge regression</th>\n",
       "      <td>0.004 (+/- 0.001)</td>\n",
       "      <td>0.002 (+/- 0.000)</td>\n",
       "      <td>-6.142 (+/- 0.431)</td>\n",
       "      <td>-6.005 (+/- 0.107)</td>\n",
       "    </tr>\n",
       "    <tr>\n",
       "      <th>LASSO regression</th>\n",
       "      <td>0.003 (+/- 0.000)</td>\n",
       "      <td>0.002 (+/- 0.000)</td>\n",
       "      <td>-6.209 (+/- 0.440)</td>\n",
       "      <td>-6.079 (+/- 0.087)</td>\n",
       "    </tr>\n",
       "    <tr>\n",
       "      <th>decision tree</th>\n",
       "      <td>0.005 (+/- 0.000)</td>\n",
       "      <td>0.002 (+/- 0.000)</td>\n",
       "      <td>-9.058 (+/- 0.634)</td>\n",
       "      <td>0.000 (+/- 0.000)</td>\n",
       "    </tr>\n",
       "    <tr>\n",
       "      <th>random forest</th>\n",
       "      <td>0.469 (+/- 0.840)</td>\n",
       "      <td>0.015 (+/- 0.003)</td>\n",
       "      <td>-6.445 (+/- 0.450)</td>\n",
       "      <td>-2.428 (+/- 0.047)</td>\n",
       "    </tr>\n",
       "    <tr>\n",
       "      <th>XGBoost</th>\n",
       "      <td>0.072 (+/- 0.029)</td>\n",
       "      <td>0.003 (+/- 0.000)</td>\n",
       "      <td>-6.975 (+/- 0.405)</td>\n",
       "      <td>-0.008 (+/- 0.005)</td>\n",
       "    </tr>\n",
       "    <tr>\n",
       "      <th>LGBM</th>\n",
       "      <td>0.020 (+/- 0.001)</td>\n",
       "      <td>0.002 (+/- 0.000)</td>\n",
       "      <td>-6.843 (+/- 0.383)</td>\n",
       "      <td>-2.275 (+/- 0.057)</td>\n",
       "    </tr>\n",
       "    <tr>\n",
       "      <th>CatBoost</th>\n",
       "      <td>0.790 (+/- 0.079)</td>\n",
       "      <td>0.002 (+/- 0.000)</td>\n",
       "      <td>-6.592 (+/- 0.265)</td>\n",
       "      <td>-0.948 (+/- 0.050)</td>\n",
       "    </tr>\n",
       "  </tbody>\n",
       "</table>\n",
       "</div>"
      ],
      "text/plain": [
       "                                    fit_time         score_time  \\\n",
       "dummy regressor            0.003 (+/- 0.001)  0.002 (+/- 0.000)   \n",
       "KNN regressor              0.002 (+/- 0.000)  0.002 (+/- 0.000)   \n",
       "linear regression          0.004 (+/- 0.001)  0.002 (+/- 0.000)   \n",
       "ridge regression           0.003 (+/- 0.001)  0.002 (+/- 0.000)   \n",
       "bayesian ridge regression  0.004 (+/- 0.001)  0.002 (+/- 0.000)   \n",
       "LASSO regression           0.003 (+/- 0.000)  0.002 (+/- 0.000)   \n",
       "decision tree              0.005 (+/- 0.000)  0.002 (+/- 0.000)   \n",
       "random forest              0.469 (+/- 0.840)  0.015 (+/- 0.003)   \n",
       "XGBoost                    0.072 (+/- 0.029)  0.003 (+/- 0.000)   \n",
       "LGBM                       0.020 (+/- 0.001)  0.002 (+/- 0.000)   \n",
       "CatBoost                   0.790 (+/- 0.079)  0.002 (+/- 0.000)   \n",
       "\n",
       "                          test_neg_mean_absolute_error  \\\n",
       "dummy regressor                     -8.109 (+/- 0.522)   \n",
       "KNN regressor                       -6.520 (+/- 0.279)   \n",
       "linear regression                   -6.158 (+/- 0.558)   \n",
       "ridge regression                    -6.129 (+/- 0.501)   \n",
       "bayesian ridge regression           -6.142 (+/- 0.431)   \n",
       "LASSO regression                    -6.209 (+/- 0.440)   \n",
       "decision tree                       -9.058 (+/- 0.634)   \n",
       "random forest                       -6.445 (+/- 0.450)   \n",
       "XGBoost                             -6.975 (+/- 0.405)   \n",
       "LGBM                                -6.843 (+/- 0.383)   \n",
       "CatBoost                            -6.592 (+/- 0.265)   \n",
       "\n",
       "                          train_neg_mean_absolute_error  \n",
       "dummy regressor                      -8.096 (+/- 0.131)  \n",
       "KNN regressor                        -5.339 (+/- 0.127)  \n",
       "linear regression                    -5.856 (+/- 0.118)  \n",
       "ridge regression                     -5.945 (+/- 0.120)  \n",
       "bayesian ridge regression            -6.005 (+/- 0.107)  \n",
       "LASSO regression                     -6.079 (+/- 0.087)  \n",
       "decision tree                         0.000 (+/- 0.000)  \n",
       "random forest                        -2.428 (+/- 0.047)  \n",
       "XGBoost                              -0.008 (+/- 0.005)  \n",
       "LGBM                                 -2.275 (+/- 0.057)  \n",
       "CatBoost                             -0.948 (+/- 0.050)  "
      ]
     },
     "execution_count": 21,
     "metadata": {},
     "output_type": "execute_result"
    }
   ],
   "source": [
    "pd.DataFrame(results_dict).T"
   ]
  },
  {
   "cell_type": "markdown",
   "id": "050df28d-9b9c-4688-9c11-8fb49405d145",
   "metadata": {},
   "source": [
    "## Evaluating the Test Set"
   ]
  },
  {
   "cell_type": "code",
   "execution_count": 22,
   "id": "dda994da-25f8-4ef6-9870-34b13ab307f6",
   "metadata": {
    "tags": []
   },
   "outputs": [],
   "source": [
    "ols_pipe = make_pipeline(ct, LinearRegression())"
   ]
  },
  {
   "cell_type": "code",
   "execution_count": 23,
   "id": "8210ad47-0683-4c32-a17c-e8f3681895ab",
   "metadata": {
    "tags": []
   },
   "outputs": [
    {
     "data": {
      "text/html": [
       "<style>#sk-container-id-1 {color: black;background-color: white;}#sk-container-id-1 pre{padding: 0;}#sk-container-id-1 div.sk-toggleable {background-color: white;}#sk-container-id-1 label.sk-toggleable__label {cursor: pointer;display: block;width: 100%;margin-bottom: 0;padding: 0.3em;box-sizing: border-box;text-align: center;}#sk-container-id-1 label.sk-toggleable__label-arrow:before {content: \"▸\";float: left;margin-right: 0.25em;color: #696969;}#sk-container-id-1 label.sk-toggleable__label-arrow:hover:before {color: black;}#sk-container-id-1 div.sk-estimator:hover label.sk-toggleable__label-arrow:before {color: black;}#sk-container-id-1 div.sk-toggleable__content {max-height: 0;max-width: 0;overflow: hidden;text-align: left;background-color: #f0f8ff;}#sk-container-id-1 div.sk-toggleable__content pre {margin: 0.2em;color: black;border-radius: 0.25em;background-color: #f0f8ff;}#sk-container-id-1 input.sk-toggleable__control:checked~div.sk-toggleable__content {max-height: 200px;max-width: 100%;overflow: auto;}#sk-container-id-1 input.sk-toggleable__control:checked~label.sk-toggleable__label-arrow:before {content: \"▾\";}#sk-container-id-1 div.sk-estimator input.sk-toggleable__control:checked~label.sk-toggleable__label {background-color: #d4ebff;}#sk-container-id-1 div.sk-label input.sk-toggleable__control:checked~label.sk-toggleable__label {background-color: #d4ebff;}#sk-container-id-1 input.sk-hidden--visually {border: 0;clip: rect(1px 1px 1px 1px);clip: rect(1px, 1px, 1px, 1px);height: 1px;margin: -1px;overflow: hidden;padding: 0;position: absolute;width: 1px;}#sk-container-id-1 div.sk-estimator {font-family: monospace;background-color: #f0f8ff;border: 1px dotted black;border-radius: 0.25em;box-sizing: border-box;margin-bottom: 0.5em;}#sk-container-id-1 div.sk-estimator:hover {background-color: #d4ebff;}#sk-container-id-1 div.sk-parallel-item::after {content: \"\";width: 100%;border-bottom: 1px solid gray;flex-grow: 1;}#sk-container-id-1 div.sk-label:hover label.sk-toggleable__label {background-color: #d4ebff;}#sk-container-id-1 div.sk-serial::before {content: \"\";position: absolute;border-left: 1px solid gray;box-sizing: border-box;top: 0;bottom: 0;left: 50%;z-index: 0;}#sk-container-id-1 div.sk-serial {display: flex;flex-direction: column;align-items: center;background-color: white;padding-right: 0.2em;padding-left: 0.2em;position: relative;}#sk-container-id-1 div.sk-item {position: relative;z-index: 1;}#sk-container-id-1 div.sk-parallel {display: flex;align-items: stretch;justify-content: center;background-color: white;position: relative;}#sk-container-id-1 div.sk-item::before, #sk-container-id-1 div.sk-parallel-item::before {content: \"\";position: absolute;border-left: 1px solid gray;box-sizing: border-box;top: 0;bottom: 0;left: 50%;z-index: -1;}#sk-container-id-1 div.sk-parallel-item {display: flex;flex-direction: column;z-index: 1;position: relative;background-color: white;}#sk-container-id-1 div.sk-parallel-item:first-child::after {align-self: flex-end;width: 50%;}#sk-container-id-1 div.sk-parallel-item:last-child::after {align-self: flex-start;width: 50%;}#sk-container-id-1 div.sk-parallel-item:only-child::after {width: 0;}#sk-container-id-1 div.sk-dashed-wrapped {border: 1px dashed gray;margin: 0 0.4em 0.5em 0.4em;box-sizing: border-box;padding-bottom: 0.4em;background-color: white;}#sk-container-id-1 div.sk-label label {font-family: monospace;font-weight: bold;display: inline-block;line-height: 1.2em;}#sk-container-id-1 div.sk-label-container {text-align: center;}#sk-container-id-1 div.sk-container {/* jupyter's `normalize.less` sets `[hidden] { display: none; }` but bootstrap.min.css set `[hidden] { display: none !important; }` so we also need the `!important` here to be able to override the default hidden behavior on the sphinx rendered scikit-learn.org. See: https://github.com/scikit-learn/scikit-learn/issues/21755 */display: inline-block !important;position: relative;}#sk-container-id-1 div.sk-text-repr-fallback {display: none;}</style><div id=\"sk-container-id-1\" class=\"sk-top-container\"><div class=\"sk-text-repr-fallback\"><pre>Pipeline(steps=[(&#x27;columntransformer&#x27;,\n",
       "                 ColumnTransformer(transformers=[(&#x27;passthrough&#x27;, &#x27;passthrough&#x27;,\n",
       "                                                  [&#x27;home_run_x&#x27;, &#x27;xba&#x27;, &#x27;xslg&#x27;,\n",
       "                                                   &#x27;xwoba&#x27;, &#x27;xobp&#x27;, &#x27;xiso&#x27;,\n",
       "                                                   &#x27;xwobacon&#x27;, &#x27;xbacon&#x27;,\n",
       "                                                   &#x27;exit_velocity_avg&#x27;,\n",
       "                                                   &#x27;launch_angle_avg&#x27;,\n",
       "                                                   &#x27;sweet_spot_percent&#x27;,\n",
       "                                                   &#x27;barrel_batted_rate&#x27;,\n",
       "                                                   &#x27;solidcontact_percent&#x27;,\n",
       "                                                   &#x27;hard_hit_percent&#x27;]),\n",
       "                                                 (&#x27;drop&#x27;, &#x27;drop&#x27;,\n",
       "                                                  [&#x27;last_name, first_name&#x27;,\n",
       "                                                   &#x27;player_id&#x27;, &#x27;year&#x27;])])),\n",
       "                (&#x27;linearregression&#x27;, LinearRegression())])</pre><b>In a Jupyter environment, please rerun this cell to show the HTML representation or trust the notebook. <br />On GitHub, the HTML representation is unable to render, please try loading this page with nbviewer.org.</b></div><div class=\"sk-container\" hidden><div class=\"sk-item sk-dashed-wrapped\"><div class=\"sk-label-container\"><div class=\"sk-label sk-toggleable\"><input class=\"sk-toggleable__control sk-hidden--visually\" id=\"sk-estimator-id-1\" type=\"checkbox\" ><label for=\"sk-estimator-id-1\" class=\"sk-toggleable__label sk-toggleable__label-arrow\">Pipeline</label><div class=\"sk-toggleable__content\"><pre>Pipeline(steps=[(&#x27;columntransformer&#x27;,\n",
       "                 ColumnTransformer(transformers=[(&#x27;passthrough&#x27;, &#x27;passthrough&#x27;,\n",
       "                                                  [&#x27;home_run_x&#x27;, &#x27;xba&#x27;, &#x27;xslg&#x27;,\n",
       "                                                   &#x27;xwoba&#x27;, &#x27;xobp&#x27;, &#x27;xiso&#x27;,\n",
       "                                                   &#x27;xwobacon&#x27;, &#x27;xbacon&#x27;,\n",
       "                                                   &#x27;exit_velocity_avg&#x27;,\n",
       "                                                   &#x27;launch_angle_avg&#x27;,\n",
       "                                                   &#x27;sweet_spot_percent&#x27;,\n",
       "                                                   &#x27;barrel_batted_rate&#x27;,\n",
       "                                                   &#x27;solidcontact_percent&#x27;,\n",
       "                                                   &#x27;hard_hit_percent&#x27;]),\n",
       "                                                 (&#x27;drop&#x27;, &#x27;drop&#x27;,\n",
       "                                                  [&#x27;last_name, first_name&#x27;,\n",
       "                                                   &#x27;player_id&#x27;, &#x27;year&#x27;])])),\n",
       "                (&#x27;linearregression&#x27;, LinearRegression())])</pre></div></div></div><div class=\"sk-serial\"><div class=\"sk-item sk-dashed-wrapped\"><div class=\"sk-label-container\"><div class=\"sk-label sk-toggleable\"><input class=\"sk-toggleable__control sk-hidden--visually\" id=\"sk-estimator-id-2\" type=\"checkbox\" ><label for=\"sk-estimator-id-2\" class=\"sk-toggleable__label sk-toggleable__label-arrow\">columntransformer: ColumnTransformer</label><div class=\"sk-toggleable__content\"><pre>ColumnTransformer(transformers=[(&#x27;passthrough&#x27;, &#x27;passthrough&#x27;,\n",
       "                                 [&#x27;home_run_x&#x27;, &#x27;xba&#x27;, &#x27;xslg&#x27;, &#x27;xwoba&#x27;, &#x27;xobp&#x27;,\n",
       "                                  &#x27;xiso&#x27;, &#x27;xwobacon&#x27;, &#x27;xbacon&#x27;,\n",
       "                                  &#x27;exit_velocity_avg&#x27;, &#x27;launch_angle_avg&#x27;,\n",
       "                                  &#x27;sweet_spot_percent&#x27;, &#x27;barrel_batted_rate&#x27;,\n",
       "                                  &#x27;solidcontact_percent&#x27;, &#x27;hard_hit_percent&#x27;]),\n",
       "                                (&#x27;drop&#x27;, &#x27;drop&#x27;,\n",
       "                                 [&#x27;last_name, first_name&#x27;, &#x27;player_id&#x27;,\n",
       "                                  &#x27;year&#x27;])])</pre></div></div></div><div class=\"sk-parallel\"><div class=\"sk-parallel-item\"><div class=\"sk-item\"><div class=\"sk-label-container\"><div class=\"sk-label sk-toggleable\"><input class=\"sk-toggleable__control sk-hidden--visually\" id=\"sk-estimator-id-3\" type=\"checkbox\" ><label for=\"sk-estimator-id-3\" class=\"sk-toggleable__label sk-toggleable__label-arrow\">passthrough</label><div class=\"sk-toggleable__content\"><pre>[&#x27;home_run_x&#x27;, &#x27;xba&#x27;, &#x27;xslg&#x27;, &#x27;xwoba&#x27;, &#x27;xobp&#x27;, &#x27;xiso&#x27;, &#x27;xwobacon&#x27;, &#x27;xbacon&#x27;, &#x27;exit_velocity_avg&#x27;, &#x27;launch_angle_avg&#x27;, &#x27;sweet_spot_percent&#x27;, &#x27;barrel_batted_rate&#x27;, &#x27;solidcontact_percent&#x27;, &#x27;hard_hit_percent&#x27;]</pre></div></div></div><div class=\"sk-serial\"><div class=\"sk-item\"><div class=\"sk-estimator sk-toggleable\"><input class=\"sk-toggleable__control sk-hidden--visually\" id=\"sk-estimator-id-4\" type=\"checkbox\" ><label for=\"sk-estimator-id-4\" class=\"sk-toggleable__label sk-toggleable__label-arrow\">passthrough</label><div class=\"sk-toggleable__content\"><pre>passthrough</pre></div></div></div></div></div></div><div class=\"sk-parallel-item\"><div class=\"sk-item\"><div class=\"sk-label-container\"><div class=\"sk-label sk-toggleable\"><input class=\"sk-toggleable__control sk-hidden--visually\" id=\"sk-estimator-id-5\" type=\"checkbox\" ><label for=\"sk-estimator-id-5\" class=\"sk-toggleable__label sk-toggleable__label-arrow\">drop</label><div class=\"sk-toggleable__content\"><pre>[&#x27;last_name, first_name&#x27;, &#x27;player_id&#x27;, &#x27;year&#x27;]</pre></div></div></div><div class=\"sk-serial\"><div class=\"sk-item\"><div class=\"sk-estimator sk-toggleable\"><input class=\"sk-toggleable__control sk-hidden--visually\" id=\"sk-estimator-id-6\" type=\"checkbox\" ><label for=\"sk-estimator-id-6\" class=\"sk-toggleable__label sk-toggleable__label-arrow\">drop</label><div class=\"sk-toggleable__content\"><pre>drop</pre></div></div></div></div></div></div></div></div><div class=\"sk-item\"><div class=\"sk-estimator sk-toggleable\"><input class=\"sk-toggleable__control sk-hidden--visually\" id=\"sk-estimator-id-7\" type=\"checkbox\" ><label for=\"sk-estimator-id-7\" class=\"sk-toggleable__label sk-toggleable__label-arrow\">LinearRegression</label><div class=\"sk-toggleable__content\"><pre>LinearRegression()</pre></div></div></div></div></div></div></div>"
      ],
      "text/plain": [
       "Pipeline(steps=[('columntransformer',\n",
       "                 ColumnTransformer(transformers=[('passthrough', 'passthrough',\n",
       "                                                  ['home_run_x', 'xba', 'xslg',\n",
       "                                                   'xwoba', 'xobp', 'xiso',\n",
       "                                                   'xwobacon', 'xbacon',\n",
       "                                                   'exit_velocity_avg',\n",
       "                                                   'launch_angle_avg',\n",
       "                                                   'sweet_spot_percent',\n",
       "                                                   'barrel_batted_rate',\n",
       "                                                   'solidcontact_percent',\n",
       "                                                   'hard_hit_percent']),\n",
       "                                                 ('drop', 'drop',\n",
       "                                                  ['last_name, first_name',\n",
       "                                                   'player_id', 'year'])])),\n",
       "                ('linearregression', LinearRegression())])"
      ]
     },
     "execution_count": 23,
     "metadata": {},
     "output_type": "execute_result"
    }
   ],
   "source": [
    "ols_pipe.fit(X_train, y_train)"
   ]
  },
  {
   "cell_type": "code",
   "execution_count": 24,
   "id": "94266154-91d7-49a7-90a1-4308f8a0730f",
   "metadata": {
    "tags": []
   },
   "outputs": [
    {
     "data": {
      "text/html": [
       "<div>\n",
       "<style scoped>\n",
       "    .dataframe tbody tr th:only-of-type {\n",
       "        vertical-align: middle;\n",
       "    }\n",
       "\n",
       "    .dataframe tbody tr th {\n",
       "        vertical-align: top;\n",
       "    }\n",
       "\n",
       "    .dataframe thead th {\n",
       "        text-align: right;\n",
       "    }\n",
       "</style>\n",
       "<table border=\"1\" class=\"dataframe\">\n",
       "  <thead>\n",
       "    <tr style=\"text-align: right;\">\n",
       "      <th></th>\n",
       "      <th>0</th>\n",
       "      <th>1</th>\n",
       "    </tr>\n",
       "  </thead>\n",
       "  <tbody>\n",
       "    <tr>\n",
       "      <th>1</th>\n",
       "      <td>xba</td>\n",
       "      <td>629.141182</td>\n",
       "    </tr>\n",
       "    <tr>\n",
       "      <th>5</th>\n",
       "      <td>xiso</td>\n",
       "      <td>588.388076</td>\n",
       "    </tr>\n",
       "    <tr>\n",
       "      <th>6</th>\n",
       "      <td>xwobacon</td>\n",
       "      <td>135.163977</td>\n",
       "    </tr>\n",
       "    <tr>\n",
       "      <th>3</th>\n",
       "      <td>xwoba</td>\n",
       "      <td>106.582679</td>\n",
       "    </tr>\n",
       "    <tr>\n",
       "      <th>8</th>\n",
       "      <td>exit_velocity_avg</td>\n",
       "      <td>0.934949</td>\n",
       "    </tr>\n",
       "    <tr>\n",
       "      <th>12</th>\n",
       "      <td>solidcontact_percent</td>\n",
       "      <td>0.427855</td>\n",
       "    </tr>\n",
       "    <tr>\n",
       "      <th>9</th>\n",
       "      <td>launch_angle_avg</td>\n",
       "      <td>0.384468</td>\n",
       "    </tr>\n",
       "    <tr>\n",
       "      <th>0</th>\n",
       "      <td>home_run_x</td>\n",
       "      <td>0.324476</td>\n",
       "    </tr>\n",
       "    <tr>\n",
       "      <th>13</th>\n",
       "      <td>hard_hit_percent</td>\n",
       "      <td>-0.124737</td>\n",
       "    </tr>\n",
       "    <tr>\n",
       "      <th>11</th>\n",
       "      <td>barrel_batted_rate</td>\n",
       "      <td>-0.251972</td>\n",
       "    </tr>\n",
       "    <tr>\n",
       "      <th>10</th>\n",
       "      <td>sweet_spot_percent</td>\n",
       "      <td>-0.457150</td>\n",
       "    </tr>\n",
       "    <tr>\n",
       "      <th>4</th>\n",
       "      <td>xobp</td>\n",
       "      <td>-56.383327</td>\n",
       "    </tr>\n",
       "    <tr>\n",
       "      <th>7</th>\n",
       "      <td>xbacon</td>\n",
       "      <td>-114.125545</td>\n",
       "    </tr>\n",
       "    <tr>\n",
       "      <th>2</th>\n",
       "      <td>xslg</td>\n",
       "      <td>-646.026362</td>\n",
       "    </tr>\n",
       "  </tbody>\n",
       "</table>\n",
       "</div>"
      ],
      "text/plain": [
       "                       0           1\n",
       "1                    xba  629.141182\n",
       "5                   xiso  588.388076\n",
       "6               xwobacon  135.163977\n",
       "3                  xwoba  106.582679\n",
       "8      exit_velocity_avg    0.934949\n",
       "12  solidcontact_percent    0.427855\n",
       "9       launch_angle_avg    0.384468\n",
       "0             home_run_x    0.324476\n",
       "13      hard_hit_percent   -0.124737\n",
       "11    barrel_batted_rate   -0.251972\n",
       "10    sweet_spot_percent   -0.457150\n",
       "4                   xobp  -56.383327\n",
       "7                 xbacon -114.125545\n",
       "2                   xslg -646.026362"
      ]
     },
     "execution_count": 24,
     "metadata": {},
     "output_type": "execute_result"
    }
   ],
   "source": [
    "# Examining coefficents\n",
    "model = LinearRegression()\n",
    "model.fit(X_train[numeric_features], y_train)\n",
    "pd.DataFrame(zip(numeric_features, model.coef_)).sort_values(1, ascending = False)"
   ]
  },
  {
   "cell_type": "code",
   "execution_count": 25,
   "id": "95e90197-93de-4ed2-80fe-3b5706890bb2",
   "metadata": {
    "tags": []
   },
   "outputs": [],
   "source": [
    "pred = ols_pipe.predict(X_test)"
   ]
  },
  {
   "cell_type": "code",
   "execution_count": 26,
   "id": "542d6b20-05f0-4c0a-bc4d-099b62db5e17",
   "metadata": {
    "tags": []
   },
   "outputs": [
    {
     "data": {
      "text/plain": [
       "5.600027099015987"
      ]
     },
     "execution_count": 26,
     "metadata": {},
     "output_type": "execute_result"
    }
   ],
   "source": [
    "mean_absolute_error(y_test, pred)"
   ]
  },
  {
   "cell_type": "code",
   "execution_count": 27,
   "id": "342ad9a6-62c1-4ca8-b126-f94bb2171465",
   "metadata": {
    "tags": []
   },
   "outputs": [
    {
     "data": {
      "image/png": "[encoded data removed]",
      "text/plain": [
       "<Figure size 640x480 with 1 Axes>"
      ]
     },
     "metadata": {},
     "output_type": "display_data"
    }
   ],
   "source": [
    "# Visualizing Actual vs Predicted HRs\n",
    "\n",
    "g = sns.scatterplot(x=pred, y=y_test).set(title='Actual vs Predicted HRs')\n",
    "\n",
    "plt.plot(np.linspace(0, 50, 100), np.linspace(0, 50, 100), color='r')\n",
    "plt.xlabel(\"Predicted HRs\")\n",
    "plt.ylabel(\"Actual HRs\")\n",
    "plt.show()"
   ]
  },
  {
   "cell_type": "code",
   "execution_count": 28,
   "id": "deb68b32-97b4-4ed9-bd83-5d5b0378c043",
   "metadata": {
    "tags": []
   },
   "outputs": [
    {
     "data": {
      "text/plain": [
       "[Text(0.5, 1.0, 'Prediction Error')]"
      ]
     },
     "execution_count": 28,
     "metadata": {},
     "output_type": "execute_result"
    },
    {
     "data": {
      "image/png": "[encoded data removed]",
      "text/plain": [
       "<Figure size 640x480 with 1 Axes>"
      ]
     },
     "metadata": {},
     "output_type": "display_data"
    }
   ],
   "source": [
    "# Visualize Error\n",
    "sns.histplot(abs(y_test-pred), bins = 20).set(title=\"Prediction Error\")"
   ]
  },
  {
   "cell_type": "code",
   "execution_count": 29,
   "id": "0bfd33a6-3426-4a17-aaeb-5cb3d8a1e623",
   "metadata": {
    "tags": []
   },
   "outputs": [
    {
     "data": {
      "text/plain": [
       "count    105.000000\n",
       "mean       5.600027\n",
       "std        4.437054\n",
       "min        0.052720\n",
       "25%        2.205048\n",
       "50%        4.867894\n",
       "75%        6.955246\n",
       "max       18.056911\n",
       "Name: Diff, dtype: float64"
      ]
     },
     "execution_count": 29,
     "metadata": {},
     "output_type": "execute_result"
    }
   ],
   "source": [
    "# See Summary Metrics of Errors\n",
    "results2022= pd.DataFrame()\n",
    "results2022['Diff'] = abs(y_test-(pred))\n",
    "results2022['Diff'].describe()"
   ]
  },
  {
   "cell_type": "markdown",
   "id": "4069a26d-3fa1-42b5-b2ef-91b3e17221e5",
   "metadata": {},
   "source": [
    "# 2023 Predictions"
   ]
  },
  {
   "cell_type": "code",
   "execution_count": 30,
   "id": "9c8ed228-ce8c-4790-b831-a7257f2c569c",
   "metadata": {
    "tags": []
   },
   "outputs": [],
   "source": [
    "new_test = data_2023.rename(columns={\"home_run\": \"home_run_x\"})"
   ]
  },
  {
   "cell_type": "code",
   "execution_count": 31,
   "id": "63d6354c-4a8f-4e2b-8a89-b258102d6c8f",
   "metadata": {
    "tags": []
   },
   "outputs": [],
   "source": [
    "# See Projections\n",
    "pred_2023 = ols_pipe.predict(new_test)\n",
    "data_2023_2 = data_2023\n",
    "\n",
    "pd.options.mode.chained_assignment = None \n",
    "data_2023_2['HR_Prediction'] = pred_2023\n",
    "data_2023_2=data_2023_2[['last_name, first_name', 'HR_Prediction', 'home_run']].sort_values('home_run', ascending = False)\n",
    "data_2023_2=data_2023_2.rename(columns={\"last_name, first_name\":\"Name\", \"HR_Prediction\":\"2024_HR_Prediction\", \"home_run\":\"2023_HRs\"})"
   ]
  },
  {
   "cell_type": "code",
   "execution_count": 32,
   "id": "03cd0136-1b63-4a2d-816e-e6b903fb1357",
   "metadata": {
    "tags": []
   },
   "outputs": [
    {
     "data": {
      "text/html": [
       "<div>\n",
       "<style scoped>\n",
       "    .dataframe tbody tr th:only-of-type {\n",
       "        vertical-align: middle;\n",
       "    }\n",
       "\n",
       "    .dataframe tbody tr th {\n",
       "        vertical-align: top;\n",
       "    }\n",
       "\n",
       "    .dataframe thead th {\n",
       "        text-align: right;\n",
       "    }\n",
       "</style>\n",
       "<table border=\"1\" class=\"dataframe\">\n",
       "  <thead>\n",
       "    <tr style=\"text-align: right;\">\n",
       "      <th></th>\n",
       "      <th>Name</th>\n",
       "      <th>2024_HR_Prediction</th>\n",
       "      <th>2023_HRs</th>\n",
       "    </tr>\n",
       "  </thead>\n",
       "  <tbody>\n",
       "    <tr>\n",
       "      <th>1157</th>\n",
       "      <td>Olson, Matt</td>\n",
       "      <td>43.184008</td>\n",
       "      <td>54</td>\n",
       "    </tr>\n",
       "    <tr>\n",
       "      <th>1180</th>\n",
       "      <td>Schwarber, Kyle</td>\n",
       "      <td>39.411479</td>\n",
       "      <td>47</td>\n",
       "    </tr>\n",
       "    <tr>\n",
       "      <th>1183</th>\n",
       "      <td>Ohtani, Shohei</td>\n",
       "      <td>37.879586</td>\n",
       "      <td>44</td>\n",
       "    </tr>\n",
       "    <tr>\n",
       "      <th>1159</th>\n",
       "      <td>Alonso, Pete</td>\n",
       "      <td>36.865983</td>\n",
       "      <td>46</td>\n",
       "    </tr>\n",
       "    <tr>\n",
       "      <th>1118</th>\n",
       "      <td>Ozuna, Marcell</td>\n",
       "      <td>36.228080</td>\n",
       "      <td>40</td>\n",
       "    </tr>\n",
       "    <tr>\n",
       "      <th>1127</th>\n",
       "      <td>Muncy, Max</td>\n",
       "      <td>36.127969</td>\n",
       "      <td>36</td>\n",
       "    </tr>\n",
       "    <tr>\n",
       "      <th>1211</th>\n",
       "      <td>Garcia, Adolis</td>\n",
       "      <td>35.379716</td>\n",
       "      <td>39</td>\n",
       "    </tr>\n",
       "    <tr>\n",
       "      <th>1184</th>\n",
       "      <td>Acuna Jr., Ronald</td>\n",
       "      <td>35.019239</td>\n",
       "      <td>41</td>\n",
       "    </tr>\n",
       "    <tr>\n",
       "      <th>1144</th>\n",
       "      <td>Betts, Mookie</td>\n",
       "      <td>34.221952</td>\n",
       "      <td>39</td>\n",
       "    </tr>\n",
       "    <tr>\n",
       "      <th>1160</th>\n",
       "      <td>Soler, Jorge</td>\n",
       "      <td>33.952740</td>\n",
       "      <td>36</td>\n",
       "    </tr>\n",
       "    <tr>\n",
       "      <th>1173</th>\n",
       "      <td>Devers, Rafael</td>\n",
       "      <td>32.612395</td>\n",
       "      <td>33</td>\n",
       "    </tr>\n",
       "    <tr>\n",
       "      <th>1190</th>\n",
       "      <td>Riley, Austin</td>\n",
       "      <td>32.301904</td>\n",
       "      <td>37</td>\n",
       "    </tr>\n",
       "    <tr>\n",
       "      <th>1153</th>\n",
       "      <td>Seager, Corey</td>\n",
       "      <td>31.691675</td>\n",
       "      <td>33</td>\n",
       "    </tr>\n",
       "    <tr>\n",
       "      <th>1207</th>\n",
       "      <td>Soto, Juan</td>\n",
       "      <td>31.337539</td>\n",
       "      <td>35</td>\n",
       "    </tr>\n",
       "    <tr>\n",
       "      <th>1222</th>\n",
       "      <td>Burger, Jake</td>\n",
       "      <td>30.768007</td>\n",
       "      <td>34</td>\n",
       "    </tr>\n",
       "    <tr>\n",
       "      <th>1228</th>\n",
       "      <td>Robert Jr., Luis</td>\n",
       "      <td>30.281671</td>\n",
       "      <td>38</td>\n",
       "    </tr>\n",
       "    <tr>\n",
       "      <th>1141</th>\n",
       "      <td>Lindor, Francisco</td>\n",
       "      <td>29.839477</td>\n",
       "      <td>31</td>\n",
       "    </tr>\n",
       "    <tr>\n",
       "      <th>1232</th>\n",
       "      <td>Rodriguez, Julio</td>\n",
       "      <td>28.276693</td>\n",
       "      <td>32</td>\n",
       "    </tr>\n",
       "    <tr>\n",
       "      <th>1172</th>\n",
       "      <td>Albies, Ozzie</td>\n",
       "      <td>28.238420</td>\n",
       "      <td>33</td>\n",
       "    </tr>\n",
       "    <tr>\n",
       "      <th>1128</th>\n",
       "      <td>Walker, Christian</td>\n",
       "      <td>26.882266</td>\n",
       "      <td>33</td>\n",
       "    </tr>\n",
       "  </tbody>\n",
       "</table>\n",
       "</div>"
      ],
      "text/plain": [
       "                   Name  2024_HR_Prediction  2023_HRs\n",
       "1157        Olson, Matt           43.184008        54\n",
       "1180    Schwarber, Kyle           39.411479        47\n",
       "1183     Ohtani, Shohei           37.879586        44\n",
       "1159       Alonso, Pete           36.865983        46\n",
       "1118     Ozuna, Marcell           36.228080        40\n",
       "1127         Muncy, Max           36.127969        36\n",
       "1211     Garcia, Adolis           35.379716        39\n",
       "1184  Acuna Jr., Ronald           35.019239        41\n",
       "1144      Betts, Mookie           34.221952        39\n",
       "1160       Soler, Jorge           33.952740        36\n",
       "1173     Devers, Rafael           32.612395        33\n",
       "1190      Riley, Austin           32.301904        37\n",
       "1153      Seager, Corey           31.691675        33\n",
       "1207         Soto, Juan           31.337539        35\n",
       "1222       Burger, Jake           30.768007        34\n",
       "1228   Robert Jr., Luis           30.281671        38\n",
       "1141  Lindor, Francisco           29.839477        31\n",
       "1232   Rodriguez, Julio           28.276693        32\n",
       "1172      Albies, Ozzie           28.238420        33\n",
       "1128  Walker, Christian           26.882266        33"
      ]
     },
     "execution_count": 32,
     "metadata": {},
     "output_type": "execute_result"
    }
   ],
   "source": [
    "data_2023_2.head(20).sort_values('2024_HR_Prediction', ascending =False)"
   ]
  },
  {
   "cell_type": "code",
   "execution_count": 33,
   "id": "67072f91-1e6d-4e45-bca0-5170d191cc87",
   "metadata": {
    "tags": []
   },
   "outputs": [
    {
     "data": {
      "text/html": [
       "<div>\n",
       "<style scoped>\n",
       "    .dataframe tbody tr th:only-of-type {\n",
       "        vertical-align: middle;\n",
       "    }\n",
       "\n",
       "    .dataframe tbody tr th {\n",
       "        vertical-align: top;\n",
       "    }\n",
       "\n",
       "    .dataframe thead th {\n",
       "        text-align: right;\n",
       "    }\n",
       "</style>\n",
       "<table border=\"1\" class=\"dataframe\">\n",
       "  <thead>\n",
       "    <tr style=\"text-align: right;\">\n",
       "      <th></th>\n",
       "      <th>2024_HR_Prediction</th>\n",
       "      <th>2023_HRs</th>\n",
       "    </tr>\n",
       "  </thead>\n",
       "  <tbody>\n",
       "    <tr>\n",
       "      <th>count</th>\n",
       "      <td>133.000000</td>\n",
       "      <td>133.000000</td>\n",
       "    </tr>\n",
       "    <tr>\n",
       "      <th>mean</th>\n",
       "      <td>22.795989</td>\n",
       "      <td>21.827068</td>\n",
       "    </tr>\n",
       "    <tr>\n",
       "      <th>std</th>\n",
       "      <td>6.776915</td>\n",
       "      <td>9.584956</td>\n",
       "    </tr>\n",
       "    <tr>\n",
       "      <th>min</th>\n",
       "      <td>8.009772</td>\n",
       "      <td>1.000000</td>\n",
       "    </tr>\n",
       "    <tr>\n",
       "      <th>25%</th>\n",
       "      <td>17.613226</td>\n",
       "      <td>15.000000</td>\n",
       "    </tr>\n",
       "    <tr>\n",
       "      <th>50%</th>\n",
       "      <td>22.507198</td>\n",
       "      <td>21.000000</td>\n",
       "    </tr>\n",
       "    <tr>\n",
       "      <th>75%</th>\n",
       "      <td>26.476430</td>\n",
       "      <td>26.000000</td>\n",
       "    </tr>\n",
       "    <tr>\n",
       "      <th>max</th>\n",
       "      <td>43.184008</td>\n",
       "      <td>54.000000</td>\n",
       "    </tr>\n",
       "  </tbody>\n",
       "</table>\n",
       "</div>"
      ],
      "text/plain": [
       "       2024_HR_Prediction    2023_HRs\n",
       "count          133.000000  133.000000\n",
       "mean            22.795989   21.827068\n",
       "std              6.776915    9.584956\n",
       "min              8.009772    1.000000\n",
       "25%             17.613226   15.000000\n",
       "50%             22.507198   21.000000\n",
       "75%             26.476430   26.000000\n",
       "max             43.184008   54.000000"
      ]
     },
     "execution_count": 33,
     "metadata": {},
     "output_type": "execute_result"
    }
   ],
   "source": [
    "# See Distribution of 2023 vs Predicted 2024 \n",
    "data_2023_2.describe()"
   ]
  },
  {
   "cell_type": "code",
   "execution_count": 34,
   "id": "94c2b33e-1085-4223-a979-6d09885d6fee",
   "metadata": {
    "tags": []
   },
   "outputs": [
    {
     "data": {
      "text/html": [
       "<div>\n",
       "<style scoped>\n",
       "    .dataframe tbody tr th:only-of-type {\n",
       "        vertical-align: middle;\n",
       "    }\n",
       "\n",
       "    .dataframe tbody tr th {\n",
       "        vertical-align: top;\n",
       "    }\n",
       "\n",
       "    .dataframe thead th {\n",
       "        text-align: right;\n",
       "    }\n",
       "</style>\n",
       "<table border=\"1\" class=\"dataframe\">\n",
       "  <thead>\n",
       "    <tr style=\"text-align: right;\">\n",
       "      <th></th>\n",
       "      <th>Name</th>\n",
       "      <th>2024_HR_Prediction</th>\n",
       "    </tr>\n",
       "  </thead>\n",
       "  <tbody>\n",
       "    <tr>\n",
       "      <th>1157</th>\n",
       "      <td>Olson, Matt</td>\n",
       "      <td>43.0</td>\n",
       "    </tr>\n",
       "    <tr>\n",
       "      <th>1180</th>\n",
       "      <td>Schwarber, Kyle</td>\n",
       "      <td>39.0</td>\n",
       "    </tr>\n",
       "    <tr>\n",
       "      <th>1183</th>\n",
       "      <td>Ohtani, Shohei</td>\n",
       "      <td>38.0</td>\n",
       "    </tr>\n",
       "    <tr>\n",
       "      <th>1159</th>\n",
       "      <td>Alonso, Pete</td>\n",
       "      <td>37.0</td>\n",
       "    </tr>\n",
       "    <tr>\n",
       "      <th>1118</th>\n",
       "      <td>Ozuna, Marcell</td>\n",
       "      <td>36.0</td>\n",
       "    </tr>\n",
       "  </tbody>\n",
       "</table>\n",
       "</div>"
      ],
      "text/plain": [
       "                 Name  2024_HR_Prediction\n",
       "1157      Olson, Matt                43.0\n",
       "1180  Schwarber, Kyle                39.0\n",
       "1183   Ohtani, Shohei                38.0\n",
       "1159     Alonso, Pete                37.0\n",
       "1118   Ozuna, Marcell                36.0"
      ]
     },
     "execution_count": 34,
     "metadata": {},
     "output_type": "execute_result"
    }
   ],
   "source": [
    "# Obtained Final Leaderboard\n",
    "data_2023_2['2024_HR_Prediction'] = data_2023_2['2024_HR_Prediction'].round()\n",
    "final_leaderboard = data_2023_2[['Name','2024_HR_Prediction']].sort_values(\"2024_HR_Prediction\", ascending =False)\n",
    "final_leaderboard.head()"
   ]
  },
  {
   "cell_type": "code",
   "execution_count": 35,
   "id": "08a5de67-fc82-48f9-b375-bd6e7a33a6d3",
   "metadata": {
    "tags": []
   },
   "outputs": [],
   "source": [
    "# Save Leaderboard as CSV\n",
    "final_leaderboard.to_csv(\"output/Predicted_2024_HR_Leaderboard.csv\",index=False)"
   ]
  }
 ],
 "metadata": {
  "kernelspec": {
   "display_name": "Python [conda env:miniconda3-cpsc330]",
   "language": "python",
   "name": "conda-env-miniconda3-cpsc330-py"
  },
  "language_info": {
   "codemirror_mode": {
    "name": "ipython",
    "version": 3
   },
   "file_extension": ".py",
   "mimetype": "text/x-python",
   "name": "python",
   "nbconvert_exporter": "python",
   "pygments_lexer": "ipython3",
   "version": "3.10.8"
  }
 },
 "nbformat": 4,
 "nbformat_minor": 5
}
